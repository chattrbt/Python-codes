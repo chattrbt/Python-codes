{
 "cells": [
  {
   "cell_type": "code",
   "execution_count": 38,
   "metadata": {
    "collapsed": false
   },
   "outputs": [
    {
     "name": "stdout",
     "output_type": "stream",
     "text": [
      "[3, 4, 6, 7, 8, 9, 11, 12]\n"
     ]
    }
   ],
   "source": [
    "#\"implementing quick sort algorithm\"\n",
    "def mlblr(eip):\n",
    "    if len(eip) <= 1:\n",
    "        return eip\n",
    "    eip_in = eip[len(eip)//2]\n",
    "    eip_list = [mlblr_in for mlblr_in in eip if mlblr_in < eip_in]\n",
    "    eip_out = [mlblr_in for mlblr_in in eip if mlblr_in == eip_in ]\n",
    "    eip_dict = [mlblr_in for mlblr_in in eip if mlblr_in > eip_in]\n",
    "    return mlblr(eip_list) + eip_out + mlblr(eip_dict)\n",
    "\n",
    "print(mlblr([3,8,11,9,7,6,4,12]))"
   ]
  },
  {
   "cell_type": "code",
   "execution_count": 42,
   "metadata": {
    "collapsed": false
   },
   "outputs": [
    {
     "name": "stdout",
     "output_type": "stream",
     "text": [
      "<type 'int'>\n",
      "5\n",
      "6\n",
      "4\n",
      "10\n",
      "125\n",
      "6\n",
      "4\n",
      "8\n",
      "<type 'float'>\n"
     ]
    }
   ],
   "source": [
    "#Basic Date Types\n",
    "eip = 5\n",
    "print(type(eip)) #print \"class int\"\n",
    "print(eip)      # prints \"5\"\n",
    "print(eip + 1)   #Addition\n",
    "print(eip - 1)   # Substraction\n",
    "print(eip*2)     #Multiplication\n",
    "print(eip**3)    #Exponential\n",
    "eip += 1           #Add\n",
    "print(eip)\n",
    "eip -= 2           #Subtract\n",
    "print(eip)\n",
    "eip *= 2           #Multiplication\n",
    "print(eip)\n",
    "eip_in = 2.5       #Float\n",
    "print(type(eip_in))  # prints <class float>"
   ]
  },
  {
   "cell_type": "code",
   "execution_count": 49,
   "metadata": {
    "collapsed": false
   },
   "outputs": [
    {
     "name": "stdout",
     "output_type": "stream",
     "text": [
      "<type 'bool'>\n",
      "False\n",
      "True\n",
      "False\n",
      "True\n"
     ]
    }
   ],
   "source": [
    "#Boolean Implementation\n",
    "eip_in = True\n",
    "eip_out = False\n",
    "print(type(eip_in))\n",
    "print(eip_in and eip_out)\n",
    "print(eip_in or eip_out)\n",
    "print(not eip_in)\n",
    "print(eip_in != eip_out)\n"
   ]
  },
  {
   "cell_type": "markdown",
   "metadata": {},
   "source": [
    "\n"
   ]
  },
  {
   "cell_type": "code",
   "execution_count": 60,
   "metadata": {
    "collapsed": false
   },
   "outputs": [
    {
     "name": "stdout",
     "output_type": "stream",
     "text": [
      "hello\n",
      "5\n",
      "hello world\n",
      "hello world 14\n"
     ]
    }
   ],
   "source": [
    "#Strings\n",
    "eip_in = 'hello'  # string literals can be used as single quotes\n",
    "eip_out = \"world\"   # it also can be used as double quotes; both are same.\n",
    "print(eip_in)       # prints \"hello\"\n",
    "print(len(eip_in)) # prints length of eip_in; 5\n",
    "mlblr = \"hello\" + \" \" + \"world\" #concatenated string \n",
    "print(mlblr) # print \"hello world\"\n",
    "mlblr_in ='%s %s %d' %(eip_in, eip_out, 14)\n",
    "print(mlblr_in)\n"
   ]
  },
  {
   "cell_type": "code",
   "execution_count": 67,
   "metadata": {
    "collapsed": false
   },
   "outputs": [
    {
     "name": "stdout",
     "output_type": "stream",
     "text": [
      "Hello\n",
      "HELLO\n",
      "  hello\n",
      " hello \n",
      "he(ell)(ell)o\n",
      "world\n"
     ]
    }
   ],
   "source": [
    "eip = \"hello\"\n",
    "print(eip.capitalize()) #Capitalize a string; print \"Hello\"\n",
    "print(eip.upper())      # Convert string upper case; prints \"HELLO\"\n",
    "print(eip.rjust(7))     # Right-justify a string, padding with spaces; prints \"  hello\"\n",
    "print(eip.center(7))     # Center a string, padding with spaces; prints \" hello \"\n",
    "print(eip.replace('l', '(ell)'))  # Replace all instances of one substring with another;\n",
    "                                # prints \"he(ell)(ell)o\"\n",
    "print('  world '.strip())  # Strip leading and trailing whitespace; prints \"world\""
   ]
  },
  {
   "cell_type": "code",
   "execution_count": 75,
   "metadata": {
    "collapsed": false
   },
   "outputs": [
    {
     "name": "stdout",
     "output_type": "stream",
     "text": [
      "([5, 6, 7], 7)\n",
      "7\n",
      "[5, 6, 'mlblr']\n",
      "[5, 6, 'mlblr', 'mlblr_in']\n",
      "('mlblr_in', [5, 6, 'mlblr'])\n"
     ]
    }
   ],
   "source": [
    "#Lists in pyhon are like arrays but is resizable\n",
    "eip = [5,6,7] #Create a list\n",
    "print(eip,eip[2]) #prints [5,6,7],7\n",
    "print(eip[-1])     # Negative indices count from the end of the list; prints \"7\"\n",
    "eip[2] = 'mlblr'     # Lists can contain elements of different types\n",
    "print(eip)\n",
    "eip.append('mlblr_in') # Add a new element to the end of the list\n",
    "print(eip)\n",
    "eip_in = eip.pop()    # Remove and return the last element of the list\n",
    "print(eip_in,eip)\n",
    "\n"
   ]
  },
  {
   "cell_type": "code",
   "execution_count": 76,
   "metadata": {
    "collapsed": false
   },
   "outputs": [
    {
     "name": "stdout",
     "output_type": "stream",
     "text": [
      "[0, 1, 2, 3, 4]\n",
      "[2, 3]\n",
      "[2, 3, 4]\n",
      "[0, 1]\n",
      "[0, 1, 2, 3, 4]\n",
      "[0, 1, 2, 3]\n",
      "[0, 1, 8, 9, 4]\n"
     ]
    }
   ],
   "source": [
    "#Slicing: In addition to accessing list elements one at a time, \n",
    "#Python provides concise syntax to access sublists; this is known as slicing:\n",
    "eip = list(range(5))     # range is a built-in function that creates a list of integers\n",
    "print(eip)               # Prints \"[0, 1, 2, 3, 4]\"\n",
    "print(eip[2:4])          # Get a slice from index 2 to 4 (exclusive); prints \"[2, 3]\"\n",
    "print(eip[2:])           # Get a slice from index 2 to the end; prints \"[2, 3, 4]\"\n",
    "print(eip[:2])           # Get a slice from the start to index 2 (exclusive); prints \"[0, 1]\"\n",
    "print(eip[:])            # Get a slice of the whole list; prints \"[0, 1, 2, 3, 4]\"\n",
    "print(eip[:-1])          # Slice indices can be negative; prints \"[0, 1, 2, 3]\"\n",
    "eip[2:4] = [8, 9]        # Assign a new sublist to a slice\n",
    "print(eip)               # Prints \"[0, 1, 8, 9, 4]\""
   ]
  },
  {
   "cell_type": "code",
   "execution_count": 78,
   "metadata": {
    "collapsed": false
   },
   "outputs": [
    {
     "name": "stdout",
     "output_type": "stream",
     "text": [
      "eip_in\n",
      "eip_out\n",
      "eip_dict\n"
     ]
    }
   ],
   "source": [
    "#Loops\n",
    "mlblr = ['eip_in', 'eip_out', 'eip_dict']\n",
    "for eip in mlblr:\n",
    "    print(eip)\n"
   ]
  },
  {
   "cell_type": "code",
   "execution_count": 81,
   "metadata": {
    "collapsed": false
   },
   "outputs": [
    {
     "name": "stdout",
     "output_type": "stream",
     "text": [
      "#1: eip_in\n",
      "#2: eip_out\n",
      "#3: eip_dict\n"
     ]
    }
   ],
   "source": [
    "#If you want access to the index of each element within the body of a loop, use the built-in enumerate function:\n",
    "mlblr = ['eip_in','eip_out','eip_dict']\n",
    "for eip, mlblr_in in enumerate(mlblr):\n",
    "    print('#%d: %s' %(eip+1, mlblr_in))"
   ]
  },
  {
   "cell_type": "code",
   "execution_count": 83,
   "metadata": {
    "collapsed": false
   },
   "outputs": [
    {
     "name": "stdout",
     "output_type": "stream",
     "text": [
      "[0, 1, 4, 9, 16]\n"
     ]
    }
   ],
   "source": [
    "#List comprehensions: When programming, frequently we want to transform one type of data into another.\n",
    "eip = [0, 1, 2, 3, 4]\n",
    "eip_in = []\n",
    "for mlblr in eip:\n",
    "    eip_in.append(mlblr ** 2)\n",
    "print(eip_in)"
   ]
  },
  {
   "cell_type": "code",
   "execution_count": 84,
   "metadata": {
    "collapsed": false
   },
   "outputs": [
    {
     "name": "stdout",
     "output_type": "stream",
     "text": [
      "[0, 1, 4, 9, 16]\n"
     ]
    }
   ],
   "source": [
    "#Above example works in list comprehension easily.\n",
    "eip = [0,1,2,3,4]\n",
    "eip_in = [mlblr**2 for mlblr in eip]\n",
    "print(eip_in)\n"
   ]
  },
  {
   "cell_type": "code",
   "execution_count": 88,
   "metadata": {
    "collapsed": false
   },
   "outputs": [
    {
     "name": "stdout",
     "output_type": "stream",
     "text": [
      "[0, 4, 16]\n"
     ]
    }
   ],
   "source": [
    "#List comprehensions can also contain conditions:\n",
    "eip = [0,1,2,3,4]\n",
    "eip_in = [mlblr**2 for mlblr in eip if mlblr % 2 == 0]\n",
    "print(eip_in)\n"
   ]
  },
  {
   "cell_type": "code",
   "execution_count": 92,
   "metadata": {
    "collapsed": false
   },
   "outputs": [
    {
     "name": "stdout",
     "output_type": "stream",
     "text": [
      "mlblr_in\n",
      "True\n",
      "mlblr\n",
      "N/A\n",
      "N/A\n",
      "N/A\n"
     ]
    }
   ],
   "source": [
    "#Dictionaries contains key, value pair\n",
    "eip_dict = {'eip_in': 'mlblr_in', 'eip_out': 'mlblr_out'}  # Create a new dictionary with some data\n",
    "print(eip_dict['eip_in'])       # Get an entry from a dictionary; prints \"cute\"\n",
    "print('eip_in' in eip_dict)     # Check if a dictionary has a given key; prints \"True\"\n",
    "eip_dict['eip'] = 'mlblr'     # Set an entry in a dictionary\n",
    "print(eip_dict['eip'])      # Prints \"mlblr\"\n",
    "# print(eip_dict['eip_list'])  # KeyError: 'eip_list' not a key of eip_dict\n",
    "print(eip_dict.get('eip_list', 'N/A'))  # Get an element with a default; prints \"N/A\"\n",
    "print(eip_dict.get('mlblr', 'N/A'))    # Get an element with a default; prints \"wet\"\n",
    "del eip_dict['eip']         # Remove an element from a dictionary\n",
    "print(eip_dict.get('mlblr', 'N/A')) # \"fish\" is no longer a key; prints \"N/A\""
   ]
  },
  {
   "cell_type": "code",
   "execution_count": 94,
   "metadata": {
    "collapsed": false
   },
   "outputs": [
    {
     "name": "stdout",
     "output_type": "stream",
     "text": [
      "A person has 2 legs\n",
      "A spider has 8 legs\n",
      "A cat has 4 legs\n"
     ]
    }
   ],
   "source": [
    "#Loops in dictionary\n",
    "eip_dict = {'person': 2, 'cat': 4, 'spider': 8}\n",
    "for eip_in, eip_out in eip_dict.items():\n",
    "    print('A %s has %d legs' % (eip_in, eip_out))\n",
    "# Prints \"A person has 2 legs\", \"A cat has 4 legs\", \"A spider has 8 legs\""
   ]
  },
  {
   "cell_type": "code",
   "execution_count": 96,
   "metadata": {
    "collapsed": false
   },
   "outputs": [
    {
     "name": "stdout",
     "output_type": "stream",
     "text": [
      "{0: 0, 2: 4, 4: 16}\n"
     ]
    }
   ],
   "source": [
    "#Dictionary Comprehension\n",
    "eip_list = [0, 1, 2, 3, 4]\n",
    "eip_dict = {eip: eip ** 2 for eip in eip_list if eip % 2 == 0}\n",
    "print(eip_dict)  # Prints \"{0: 0, 2: 4, 4: 16}\""
   ]
  },
  {
   "cell_type": "code",
   "execution_count": 99,
   "metadata": {
    "collapsed": false
   },
   "outputs": [
    {
     "name": "stdout",
     "output_type": "stream",
     "text": [
      "True\n",
      "False\n",
      "True\n",
      "3\n",
      "4\n",
      "3\n"
     ]
    }
   ],
   "source": [
    "#Sets\n",
    "eip = {'eip_in', 'eip_out'}\n",
    "print('eip_in' in eip)   # Check if an element is in a set; prints \"True\"\n",
    "print('mlblr' in eip)  # prints \"False\"\n",
    "eip.add('mlblr')       # Add an element to a set\n",
    "print('mlblr' in eip)  # Prints \"True\"\n",
    "print(len(eip))       # Number of elements in a set; prints \"3\"\n",
    "eip.add('mlblr_in')        # Adding an element that is already in the set does nothing\n",
    "print(len(eip))       # Prints \"3\"\n",
    "eip.remove('mlblr_in')     # Remove an element from a set\n",
    "print(len(eip))       # Prints \"2\""
   ]
  },
  {
   "cell_type": "code",
   "execution_count": 103,
   "metadata": {
    "collapsed": false
   },
   "outputs": [
    {
     "name": "stdout",
     "output_type": "stream",
     "text": [
      "#1: eip_out\n",
      "#2: eip_list\n",
      "#3: eip_in\n"
     ]
    }
   ],
   "source": [
    "#Loops in Set\n",
    "mlblr = {'eip_in', 'eip_out', 'eip_list'}\n",
    "for mlblr_in, mlblr_out in enumerate(mlblr):\n",
    "    print('#%d: %s' % (mlblr_in + 1, mlblr_out))\n",
    "#prints #1:eip_out #2: eip_list #3: eip_in"
   ]
  },
  {
   "cell_type": "code",
   "execution_count": 105,
   "metadata": {
    "collapsed": false
   },
   "outputs": [
    {
     "name": "stdout",
     "output_type": "stream",
     "text": [
      "set([0, 1, 2, 3, 4, 5])\n"
     ]
    }
   ],
   "source": [
    "#Set Comprehension\n",
    "from math import sqrt\n",
    "eip = {int(sqrt(eip_in)) for eip_in in range(30)}\n",
    "print(eip)  # Prints \"{0, 1, 2, 3, 4, 5}\"\n",
    "\n"
   ]
  },
  {
   "cell_type": "code",
   "execution_count": 107,
   "metadata": {
    "collapsed": false
   },
   "outputs": [
    {
     "name": "stdout",
     "output_type": "stream",
     "text": [
      "<type 'tuple'>\n",
      "5\n",
      "1\n"
     ]
    }
   ],
   "source": [
    "#A tuple is an (immutable) ordered list of values.\n",
    "#A tuple is in many ways similar to a list; one of the most important differences is that tuples can be used as keys in\n",
    "#dictionaries and as elements of sets, while lists cannot. Here is a trivial example:\n",
    "eip_dict = {(eip, eip + 1): eip for eip in range(10)}  # Create a dictionary with tuple keys\n",
    "mlblr = (5, 6)        # Create a tuple\n",
    "print(type(mlblr))    # Prints \"<class 'tuple'>\"\n",
    "print(eip_dict[mlblr])       # Prints \"5\"\n",
    "print(eip_dict[(1, 2)])  # Prints \"1\""
   ]
  },
  {
   "cell_type": "code",
   "execution_count": 111,
   "metadata": {
    "collapsed": false
   },
   "outputs": [
    {
     "name": "stdout",
     "output_type": "stream",
     "text": [
      "negative\n",
      "zero\n",
      "positive\n"
     ]
    }
   ],
   "source": [
    "#Functions:\n",
    "def mlblr(eip):\n",
    "    if eip > 0:\n",
    "        return 'positive'\n",
    "    elif eip < 0:\n",
    "        return 'negative'\n",
    "    else:\n",
    "        return 'zero'\n",
    "\n",
    "for eip in [-1, 0, 1]:\n",
    "    print(mlblr(eip))\n",
    "# Prints \"negative\", \"zero\", \"positive\""
   ]
  },
  {
   "cell_type": "code",
   "execution_count": 125,
   "metadata": {
    "collapsed": false
   },
   "outputs": [
    {
     "name": "stdout",
     "output_type": "stream",
     "text": [
      "Hello, Bob\n",
      "HELLO, FRED!\n"
     ]
    }
   ],
   "source": [
    "def eip(name, loud):\n",
    "    if loud:\n",
    "        print('HELLO, %s!' % name.upper())\n",
    "    else:\n",
    "        print('Hello, %s' % name)\n",
    "\n",
    "eip('Bob',False) # Prints \"Hello, Bob\"\n",
    "eip('fred', loud=True)  # Prints \"HELLO, FRED!\""
   ]
  },
  {
   "cell_type": "code",
   "execution_count": 4,
   "metadata": {
    "collapsed": false
   },
   "outputs": [
    {
     "name": "stdout",
     "output_type": "stream",
     "text": [
      "Hello, Fred\n",
      "HELLO, FRED!\n"
     ]
    }
   ],
   "source": [
    "#Classes\n",
    "class eip(object):\n",
    "\n",
    "    # Constructor\n",
    "    def __init__(self, name):\n",
    "        self.name = name  # Create an instance variable\n",
    "\n",
    "    # Instance method\n",
    "    def eip_in(self, mlblr=False):\n",
    "        if mlblr:\n",
    "            print('HELLO, %s!' % self.name.upper())\n",
    "        else:\n",
    "            print('Hello, %s' % self.name)\n",
    "\n",
    "eip_out = eip('Fred')  # Construct an instance of the eip class\n",
    "eip_out.eip_in()            # Call an instance method; prints \"Hello, Fred\"\n",
    "eip_out.eip_in(mlblr=True)   # Call an instance method; prints \"HELLO, FRED!\""
   ]
  },
  {
   "cell_type": "code",
   "execution_count": 15,
   "metadata": {
    "collapsed": false
   },
   "outputs": [
    {
     "name": "stdout",
     "output_type": "stream",
     "text": [
      "<type 'numpy.ndarray'>\n",
      "(3L,)\n",
      "(3, 6, 7)\n",
      "[5 6 7]\n",
      "(2L, 3L)\n",
      "(3, 1, 6)\n"
     ]
    }
   ],
   "source": [
    "#Numpy\n",
    "import numpy as np\n",
    "\n",
    "eip = np.array([3,6,7])  # creating rank 1 array\n",
    "print(type(eip))         # Prints \"<class 'numpy.ndarray'>\"\n",
    "print(eip.shape)        #Prints (3L,)\n",
    "print(eip[0],eip[1],eip[2]) # print (3,6,7)\n",
    "eip[0]= 5                    # Change an element of the array\n",
    "print(eip)                 # Prints \"[5, 2, 3]\"\n",
    "\n",
    "mlblr = np.array([[3,6,7],[1,2,3]])  #Creating a rank 2 matrix\n",
    "print(mlblr.shape)\n",
    "print(mlblr[0,0], mlblr[1,0],mlblr[0,1]) #print \"(3,1,6)\"\n"
   ]
  },
  {
   "cell_type": "code",
   "execution_count": 25,
   "metadata": {
    "collapsed": false
   },
   "outputs": [
    {
     "name": "stdout",
     "output_type": "stream",
     "text": [
      "[[ 0.  0.]\n",
      " [ 0.  0.]]\n",
      "[[ 1.  1.]]\n",
      "[[ 6.  6.  6.]\n",
      " [ 6.  6.  6.]]\n",
      "[[ 1.  0.]\n",
      " [ 0.  1.]]\n",
      "[[ 0.98534899  0.54546528]\n",
      " [ 0.06630481  0.7250345 ]]\n"
     ]
    }
   ],
   "source": [
    "import numpy as np\n",
    "\n",
    "eip = np.zeros((2,2))   #Create an array of all zeroes value\n",
    "print(eip)              #prints[[ 0.  0.]\n",
    "                               #[ 0.  0.]]\n",
    "    \n",
    "eip_in = np.ones((1,2))    ## Create an array of all ones\n",
    "print(eip_in)              # Prints \"[[ 1.  1.]]\"\n",
    "    \n",
    "mlblr = np.full((2,3),6)\n",
    "print(mlblr)                #[[ 6.  6.  6.]\n",
    "                            #  [ 6.  6.  6.]]\n",
    "mlblr_in = np.eye(2)  # Create a 2x2 identity matrix\n",
    "print(mlblr_in)          # Prints \"[[ 1.  0.]\n",
    "                      #          [ 0.  1.]]\"\n",
    "    \n",
    "mlblr_out = np.random.random((2,2))\n",
    "print(mlblr_out)\n"
   ]
  },
  {
   "cell_type": "code",
   "execution_count": 29,
   "metadata": {
    "collapsed": false
   },
   "outputs": [
    {
     "name": "stdout",
     "output_type": "stream",
     "text": [
      "[[2 3]\n",
      " [6 7]]\n",
      "2\n",
      "77\n"
     ]
    }
   ],
   "source": [
    "# Create the following rank 2 array with shape (3, 4)\n",
    "# [[ 1  2  3  4]\n",
    "#  [ 5  6  7  8]\n",
    "#  [ 9 10 11 12]]\n",
    "eip = np.array([[1,2,3,4], [5,6,7,8], [9,10,11,12]])\n",
    "\n",
    "# Use slicing to pull out the subarray consisting of the first 2 rows\n",
    "# and columns 1 and 2; eip_out is the following array of shape (2, 2):\n",
    "# [[2 3]\n",
    "#  [6 7]]\n",
    "eip_out = eip[:2, 1:3]\n",
    "print(eip_out)\n",
    "\n",
    "# A slice of an array is a view into the same data, so modifying it\n",
    "# will modify the original array.\n",
    "print(eip[0, 1])   # Prints \"2\"\n",
    "eip_out[0, 0] = 77     # eip_out[0, 0] is the same piece of data as eip[0, 1]\n",
    "print(eip[0, 1])   # Prints \"77\""
   ]
  },
  {
   "cell_type": "code",
   "execution_count": 31,
   "metadata": {
    "collapsed": false
   },
   "outputs": [
    {
     "name": "stdout",
     "output_type": "stream",
     "text": [
      "219\n",
      "219\n",
      "[29 67]\n",
      "[29 67]\n",
      "[[19 22]\n",
      " [43 50]]\n",
      "[[19 22]\n",
      " [43 50]]\n"
     ]
    }
   ],
   "source": [
    "eip = np.array([[1,2],[3,4]])\n",
    "mlblr = np.array([[5,6],[7,8]])\n",
    "\n",
    "eip_in = np.array([9,10])\n",
    "mlblr_in = np.array([11, 12])\n",
    "\n",
    "# Inner product of vectors; both produce 219\n",
    "print(eip_in.dot(mlblr_in))\n",
    "print(np.dot(eip_in, mlblr_in))\n",
    "\n",
    "# Matrix / vector product; both produce the rank 1 array [29 67]\n",
    "print(eip.dot(eip_in))\n",
    "print(np.dot(eip, eip_in))\n",
    "\n",
    "# Matrix / matrix product; both produce the rank 2 array\n",
    "# [[19 22]\n",
    "#  [43 50]]\n",
    "print(eip.dot(mlblr))\n",
    "print(np.dot(eip, mlblr))"
   ]
  },
  {
   "cell_type": "code",
   "execution_count": 32,
   "metadata": {
    "collapsed": false
   },
   "outputs": [
    {
     "name": "stdout",
     "output_type": "stream",
     "text": [
      "[[1 2]\n",
      " [3 4]]\n",
      "[[1 3]\n",
      " [2 4]]\n",
      "[1 2 3]\n",
      "[1 2 3]\n"
     ]
    }
   ],
   "source": [
    "#Transpose of Matrix\n",
    "eip = np.array([[1,2], [3,4]])\n",
    "print(eip)    # Prints \"[[1 2]\n",
    "            #          [3 4]]\"\n",
    "print(eip.T)  # Prints \"[[1 3]\n",
    "            #          [2 4]]\"\n",
    "\n",
    "# Note that taking the transpose of a rank 1 array does nothing:\n",
    "mlblr = np.array([1,2,3])\n",
    "print(mlblr)    # Prints \"[1 2 3]\"\n",
    "print(mlblr.T)  # Prints \"[1 2 3]\""
   ]
  },
  {
   "cell_type": "code",
   "execution_count": 35,
   "metadata": {
    "collapsed": false
   },
   "outputs": [
    {
     "name": "stdout",
     "output_type": "stream",
     "text": [
      "[[ 2  2  4]\n",
      " [ 5  5  7]\n",
      " [ 8  8 10]\n",
      " [11 11 13]]\n"
     ]
    }
   ],
   "source": [
    "#Broadcasting\n",
    "# We will add the vector eip_list to each row of the matrix eip,\n",
    "# storing the result in the matrix eip_out\n",
    "eip_list = np.array([[1,2,3], [4,5,6], [7,8,9], [10, 11, 12]])\n",
    "eip = np.array([1, 0, 1])\n",
    "eip_out = np.empty_like(eip_list)   # Create an empty matrix with the same shape as eip\n",
    "\n",
    "# Add the vector eip_list to each row of the matrix eip with an explicit loop\n",
    "for i in range(4):\n",
    "    eip_out[i, :] = eip_list[i, :] + eip\n",
    "\n",
    "# Now eip_out is the following\n",
    "# [[ 2  2  4]\n",
    "#  [ 5  5  7]\n",
    "#  [ 8  8 10]\n",
    "#  [11 11 13]]\n",
    "print(eip_out)"
   ]
  },
  {
   "cell_type": "code",
   "execution_count": 41,
   "metadata": {
    "collapsed": false
   },
   "outputs": [
    {
     "name": "stdout",
     "output_type": "stream",
     "text": [
      "[[1 0 1]\n",
      " [1 0 1]\n",
      " [1 0 1]\n",
      " [1 0 1]]\n",
      "[[ 2  2  4]\n",
      " [ 5  5  7]\n",
      " [ 8  8 10]\n",
      " [11 11 13]]\n"
     ]
    }
   ],
   "source": [
    "# We will add the vector eip_list to each row of the matrix eip,\n",
    "# storing the result in the matrix y\n",
    "eip = np.array([[1,2,3], [4,5,6], [7,8,9], [10, 11, 12]])\n",
    "eip_list = np.array([1, 0, 1])\n",
    "mlblr = np.tile(eip_list, (4, 1))   # Stack 4 copies of eip_list on top of each other\n",
    "print(mlblr)                 # Prints \"[[1 0 1]\n",
    "                          #          [1 0 1]\n",
    "                          #          [1 0 1]\n",
    "                          #          [1 0 1]]\"\n",
    "mlblr_out = eip + mlblr  # Add x and vv elementwise\n",
    "print(mlblr_out)  # Prints \"[[ 2  2  4\n",
    "          #          [ 5  5  7]\n",
    "          #          [ 8  8 10]\n",
    "          #          [11 11 13]]\""
   ]
  },
  {
   "cell_type": "code",
   "execution_count": 8,
   "metadata": {
    "collapsed": false
   },
   "outputs": [
    {
     "name": "stdout",
     "output_type": "stream",
     "text": [
      "[[ 4  5]\n",
      " [ 8 10]\n",
      " [12 15]]\n",
      "[[2 4 6]\n",
      " [5 7 9]]\n",
      "[[ 5  6  7]\n",
      " [ 9 10 11]]\n",
      "[[ 5  6  7]\n",
      " [ 9 10 11]]\n",
      "[[ 2  4  6]\n",
      " [ 8 10 12]]\n"
     ]
    }
   ],
   "source": [
    "#Broadcasting Application:\n",
    "# Compute outer product of vectors\n",
    "import numpy as np\n",
    "eip = np.array([1,2,3])  # eip has shape (3,)\n",
    "mlbr = np.array([4,5])    # mlbr has shape (2,)\n",
    "# To compute an outer product, we first reshape eip to be a column\n",
    "# vector of shape (3, 1); we can then broadcast it against mlbr to yield\n",
    "# an output of shape (3, 2), which is the outer product of eip and mlbr:\n",
    "# [[ 4  5]\n",
    "#  [ 8 10]\n",
    "#  [12 15]]\n",
    "print(np.reshape(eip, (3, 1)) * mlbr)\n",
    "# Add a vector to each row of a matrix\n",
    "eip_list = np.array([[1,2,3], [4,5,6]])\n",
    "# eip_list has shape (2, 3) and mlbr has shape (3,) so they broadcast to (2, 3),\n",
    "# giving the following matrix:\n",
    "# [[2 4 6]\n",
    "#  [5 7 9]]\n",
    "print(eip_list + eip)\n",
    "\n",
    "# Add a vector to each column of a matrix\n",
    "# eip_list has shape (2, 3) and mlbr has shape (2,).\n",
    "# If we transpose eip_list then it has shape (3, 2) and can be broadcast\n",
    "# against mlbr to yield a result of shape (3, 2); transposing this result\n",
    "# yields the final result of shape (2, 3) which is the matrix eip_list with\n",
    "# the vector mlbr added to each column. Gives the following matrix:\n",
    "# [[ 5  6  7]\n",
    "#  [ 9 10 11]]\n",
    "print((eip_list.T + mlbr).T)\n",
    "# Another solution is to reshape mlbr to be a column vector of shape (2, 1);\n",
    "# we can then broadcast it directly against eip_list to produce the same\n",
    "# output.\n",
    "print(eip_list + np.reshape(mlbr, (2, 1)))\n",
    "\n",
    "# Multiply a matrix by a constant:\n",
    "# mlbr has shape (2, 3). Numpy treats scalars as arrays of shape ();\n",
    "# these can be broadcast together to shape (2, 3), producing the\n",
    "# following array:\n",
    "# [[ 2  4  6]\n",
    "#  [ 8 10 12]]\n",
    "print(eip_list * 2)\n",
    "\n"
   ]
  },
  {
   "cell_type": "code",
   "execution_count": null,
   "metadata": {
    "collapsed": false
   },
   "outputs": [],
   "source": [
    "from scipy.misc import imread, imsave, imresize\n",
    "\n",
    "# Read an JPEG image into a numpy array\n",
    "eip = imread('C:\\\\Users\\\\gopal\\\\Desktop')\n",
    "print(eip.dtype, eip.shape)  # Prints \"uint8 (400, 248, 3)\"\n",
    "\n",
    "# We can tint the image by scaling each of the color channels\n",
    "# by a different scalar constant. The image has shape (400, 248, 3);\n",
    "# we multiply it by the array [1, 0.95, 0.9] of shape (3,);\n",
    "# numpy broadcasting means that this leaves the red channel unchanged,\n",
    "# and multiplies the green and blue channels by 0.95 and 0.9\n",
    "# respectively.\n",
    "eip_list = eip * [1, 0.95, 0.9]\n",
    "\n",
    "# Resize the tinted image to be 300 by 300 pixels.\n",
    "eip_list = imresize(eip_list, (300, 300))\n",
    "\n",
    "# Write the tinted image back to disk\n",
    "imsave('assets/cat_tinted.jpg', eip_list)"
   ]
  },
  {
   "cell_type": "code",
   "execution_count": null,
   "metadata": {
    "collapsed": true
   },
   "outputs": [],
   "source": [
    "import numpy as np\n",
    "from scipy.spatial.distance import pdist, squareform\n",
    "\n",
    "# Create the following array where each row is a point in 2D space:\n",
    "# [[0 1]\n",
    "#  [1 0]\n",
    "#  [2 0]]\n",
    "eip_list = np.array([[0, 1], [1, 0], [2, 0]])\n",
    "print(eip_list)\n",
    "\n",
    "# Compute the Euclidean distance between all rows of x.\n",
    "# d[i, j] is the Euclidean distance between x[i, :] and x[j, :],\n",
    "# and d is the following array:\n",
    "# [[ 0.          1.41421356  2.23606798]\n",
    "#  [ 1.41421356  0.          1.        ]\n",
    "#  [ 2.23606798  1.          0.        ]]\n",
    "mlbr = squareform(pdist(eip_list, 'euclidean'))\n",
    "print(mlbr)"
   ]
  },
  {
   "cell_type": "code",
   "execution_count": 19,
   "metadata": {
    "collapsed": false
   },
   "outputs": [
    {
     "data": {
      "image/png": "[encoded data removed]",
      "text/plain": [
       "<matplotlib.figure.Figure at 0xaf3ad30>"
      ]
     },
     "metadata": {},
     "output_type": "display_data"
    }
   ],
   "source": [
    "#Matplotlib\n",
    "\n",
    "import numpy as np\n",
    "import matplotlib.pyplot as plt\n",
    "\n",
    "# Compute the x and y coordinates for points on a sine curve\n",
    "eip = np.arange(0, 3 * np.pi, 0.1)\n",
    "mlbr = np.sin(eip)\n",
    "\n",
    "# Plot the points using matplotlib\n",
    "plt.plot(eip, mlbr)\n",
    "plt.show()  # You must call plt.show() to make graphics appear."
   ]
  },
  {
   "cell_type": "code",
   "execution_count": 20,
   "metadata": {
    "collapsed": false
   },
   "outputs": [
    {
     "data": {
      "image/png": "[encoded data removed]",
      "text/plain": [
       "<matplotlib.figure.Figure at 0xac36ef0>"
      ]
     },
     "metadata": {},
     "output_type": "display_data"
    }
   ],
   "source": [
    "import numpy as np\n",
    "import matplotlib.pyplot as plt\n",
    "\n",
    "# Compute the x and y coordinates for points on sine and cosine curves\n",
    "eip = np.arange(0, 3 * np.pi, 0.1)\n",
    "mlblr = np.sin(eip)\n",
    "mlblr_list = np.cos(eip)\n",
    "\n",
    "# Plot the points using matplotlib\n",
    "plt.plot(eip, mlblr)\n",
    "plt.plot(eip, mlblr_list)\n",
    "plt.xlabel('x axis label')\n",
    "plt.ylabel('y axis label')\n",
    "plt.title('Sine and Cosine')\n",
    "plt.legend(['Sine', 'Cosine'])\n",
    "plt.show()"
   ]
  },
  {
   "cell_type": "code",
   "execution_count": 22,
   "metadata": {
    "collapsed": false
   },
   "outputs": [
    {
     "data": {
      "image/png": "[encoded data removed]",
      "text/plain": [
       "<matplotlib.figure.Figure at 0xac36fd0>"
      ]
     },
     "metadata": {},
     "output_type": "display_data"
    }
   ],
   "source": [
    "#Subplots\n",
    "import numpy as np\n",
    "import matplotlib.pyplot as plt\n",
    "\n",
    "# Compute the x and y coordinates for points on sine and cosine curves\n",
    "eip = np.arange(0, 3 * np.pi, 0.1)\n",
    "mlblr = np.sin(eip)\n",
    "mlblr_list = np.cos(eip)\n",
    "\n",
    "# Set up a subplot grid that has height 2 and width 1,\n",
    "# and set the first such subplot as active.\n",
    "plt.subplot(2, 1, 1)\n",
    "\n",
    "# Make the first plot\n",
    "plt.plot(eip, mlblr)\n",
    "plt.title('Sine')\n",
    "\n",
    "# Set the second subplot as active, and make the second plot.\n",
    "plt.subplot(2, 1, 2)\n",
    "plt.plot(eip,mlblr)\n",
    "plt.title('Cosine')\n",
    "\n",
    "# Show the figure.\n",
    "plt.show()\n",
    "\n"
   ]
  },
  {
   "cell_type": "code",
   "execution_count": null,
   "metadata": {
    "collapsed": false
   },
   "outputs": [],
   "source": [
    "\n",
    "import numpy as np\n",
    "from scipy.misc import imread, imresize\n",
    "import matplotlib.pyplot as plt\n",
    "\n",
    "eip = imread('assets/cat.jpg')\n",
    "eip_list = img * [1, 0.95, 0.9]\n",
    "\n",
    "# Show the original image\n",
    "plt.subplot(1, 2, 1)\n",
    "plt.imshow(eip)\n",
    "\n",
    "# Show the tinted image\n",
    "plt.subplot(1, 2, 2)\n",
    "\n",
    "# A slight gotcha with imshow is that it might give strange results\n",
    "# if presented with data that is not uint8. To work around this, we\n",
    "# explicitly cast the image to uint8 before displaying it.\n",
    "plt.imshow(np.uint8(eip_list))\n",
    "plt.show()\n"
   ]
  }
 ],
 "metadata": {
  "anaconda-cloud": {},
  "kernelspec": {
   "display_name": "Python [conda root]",
   "language": "python",
   "name": "conda-root-py"
  },
  "language_info": {
   "codemirror_mode": {
    "name": "ipython",
    "version": 2
   },
   "file_extension": ".py",
   "mimetype": "text/x-python",
   "name": "python",
   "nbconvert_exporter": "python",
   "pygments_lexer": "ipython2",
   "version": "2.7.12"
  }
 },
 "nbformat": 4,
 "nbformat_minor": 1
}
